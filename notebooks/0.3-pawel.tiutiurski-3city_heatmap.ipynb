{
 "cells": [
  {
   "cell_type": "code",
   "execution_count": 6,
   "metadata": {},
   "outputs": [],
   "source": [
    "import gmaps\n",
    "import gmaps.datasets\n",
    "import sys\n",
    "sys.path.insert(0, \"..\")\n",
    "%load_ext autoreload\n",
    "%autoreload 2\n",
    "from src.secrets import API_KEY"
   ]
  },
  {
   "cell_type": "code",
   "execution_count": 44,
   "metadata": {},
   "outputs": [],
   "source": [
    "import googlemaps"
   ]
  },
  {
   "cell_type": "code",
   "execution_count": 17,
   "metadata": {},
   "outputs": [],
   "source": [
    "from bokeh.io import output_file, show\n",
    "from bokeh.models import ColumnDataSource, GMapOptions\n",
    "from bokeh.plotting import gmap"
   ]
  },
  {
   "cell_type": "code",
   "execution_count": 1,
   "metadata": {},
   "outputs": [],
   "source": [
    "from datetime import datetime\n",
    "time = datetime.now()"
   ]
  },
  {
   "cell_type": "code",
   "execution_count": 2,
   "metadata": {},
   "outputs": [
    {
     "data": {
      "text/plain": [
       "datetime.datetime"
      ]
     },
     "execution_count": 2,
     "metadata": {},
     "output_type": "execute_result"
    }
   ],
   "source": [
    "type(time)"
   ]
  },
  {
   "cell_type": "code",
   "execution_count": 21,
   "metadata": {},
   "outputs": [
    {
     "data": {
      "text/html": [
       "<div>\n",
       "<style scoped>\n",
       "    .dataframe tbody tr th:only-of-type {\n",
       "        vertical-align: middle;\n",
       "    }\n",
       "\n",
       "    .dataframe tbody tr th {\n",
       "        vertical-align: top;\n",
       "    }\n",
       "\n",
       "    .dataframe thead th {\n",
       "        text-align: right;\n",
       "    }\n",
       "</style>\n",
       "<table border=\"1\" class=\"dataframe\">\n",
       "  <thead>\n",
       "    <tr style=\"text-align: right;\">\n",
       "      <th></th>\n",
       "      <th>stopName</th>\n",
       "      <th>stopDesc</th>\n",
       "      <th>zoneId</th>\n",
       "      <th>zoneName</th>\n",
       "      <th>stopLat</th>\n",
       "      <th>stopLon</th>\n",
       "    </tr>\n",
       "  </thead>\n",
       "  <tbody>\n",
       "    <tr>\n",
       "      <th>0</th>\n",
       "      <td>Dąbrowa Centrum</td>\n",
       "      <td>Gdynia Dąbrowa Centrum</td>\n",
       "      <td>5.0</td>\n",
       "      <td>Gdynia</td>\n",
       "      <td>54.47317</td>\n",
       "      <td>18.46509</td>\n",
       "    </tr>\n",
       "    <tr>\n",
       "      <th>1</th>\n",
       "      <td>Kameliowa</td>\n",
       "      <td>Gdynia Kameliowa</td>\n",
       "      <td>5.0</td>\n",
       "      <td>Gdynia</td>\n",
       "      <td>54.47018</td>\n",
       "      <td>18.46820</td>\n",
       "    </tr>\n",
       "    <tr>\n",
       "      <th>2</th>\n",
       "      <td>Paprykowa</td>\n",
       "      <td>Gdynia Paprykowa</td>\n",
       "      <td>5.0</td>\n",
       "      <td>Gdynia</td>\n",
       "      <td>54.46784</td>\n",
       "      <td>18.46546</td>\n",
       "    </tr>\n",
       "    <tr>\n",
       "      <th>3</th>\n",
       "      <td>Szafranowa</td>\n",
       "      <td>Gdynia Szafranowa</td>\n",
       "      <td>5.0</td>\n",
       "      <td>Gdynia</td>\n",
       "      <td>54.46536</td>\n",
       "      <td>18.46020</td>\n",
       "    </tr>\n",
       "    <tr>\n",
       "      <th>4</th>\n",
       "      <td>Giełda Towarowa</td>\n",
       "      <td>Gdynia Giełda Towarowa</td>\n",
       "      <td>5.0</td>\n",
       "      <td>Gdynia</td>\n",
       "      <td>54.46224</td>\n",
       "      <td>18.45337</td>\n",
       "    </tr>\n",
       "  </tbody>\n",
       "</table>\n",
       "</div>"
      ],
      "text/plain": [
       "          stopName                stopDesc  zoneId zoneName   stopLat  \\\n",
       "0  Dąbrowa Centrum  Gdynia Dąbrowa Centrum     5.0   Gdynia  54.47317   \n",
       "1        Kameliowa        Gdynia Kameliowa     5.0   Gdynia  54.47018   \n",
       "2        Paprykowa        Gdynia Paprykowa     5.0   Gdynia  54.46784   \n",
       "3       Szafranowa       Gdynia Szafranowa     5.0   Gdynia  54.46536   \n",
       "4  Giełda Towarowa  Gdynia Giełda Towarowa     5.0   Gdynia  54.46224   \n",
       "\n",
       "    stopLon  \n",
       "0  18.46509  \n",
       "1  18.46820  \n",
       "2  18.46546  \n",
       "3  18.46020  \n",
       "4  18.45337  "
      ]
     },
     "execution_count": 21,
     "metadata": {},
     "output_type": "execute_result"
    }
   ],
   "source": [
    "import pandas as pd\n",
    "\n",
    "data = pd.read_csv(\"../data/ztm_Gdansk.csv\", index_col=0)\n",
    "data.head()"
   ]
  },
  {
   "cell_type": "code",
   "execution_count": 40,
   "metadata": {},
   "outputs": [
    {
     "data": {
      "text/plain": [
       "'54.38, 18.55937'"
      ]
     },
     "execution_count": 40,
     "metadata": {},
     "output_type": "execute_result"
    }
   ],
   "source": [
    "origins = data[data['stopDesc'] == 'Niedźwiednik'].iloc[0]\n",
    "origins_coord = f\"{origins.stopLat}, {origins.stopLon}\"\n",
    "origins_coord"
   ]
  },
  {
   "cell_type": "code",
   "execution_count": 81,
   "metadata": {},
   "outputs": [
    {
     "data": {
      "text/plain": [
       "['54.40951999999999, 18.57776',\n",
       " '54.333980000000004, 18.6158',\n",
       " '54.36385, 18.48111',\n",
       " '54.544059999999995, 18.49909',\n",
       " '54.547430000000006, 18.44199',\n",
       " '54.46816, 18.48108',\n",
       " '54.38338, 18.62058',\n",
       " '54.32241, 18.55242',\n",
       " '54.34964, 18.512439999999998',\n",
       " '54.355340000000005, 18.74535',\n",
       " '54.310919999999996, 18.62953',\n",
       " '54.53106, 18.48263',\n",
       " '54.341159999999995, 18.65822',\n",
       " '54.34936, 18.67455',\n",
       " '54.471869999999996, 18.47883',\n",
       " '54.33741, 18.616310000000002',\n",
       " '54.38298, 18.59881',\n",
       " '54.38013, 18.58689',\n",
       " '54.59495, 18.4297',\n",
       " '54.50488000000001, 18.55269']"
      ]
     },
     "execution_count": 81,
     "metadata": {},
     "output_type": "execute_result"
    }
   ],
   "source": [
    "stops_test = data.sample(20)[['stopDesc', 'stopLat', 'stopLon']].to_dict('record')\n",
    "dest_coord = [f\"{i['stopLat']}, {i['stopLon']}\" for i  in stops_test]\n",
    "dest_coord"
   ]
  },
  {
   "cell_type": "code",
   "execution_count": 82,
   "metadata": {},
   "outputs": [
    {
     "data": {
      "text/plain": [
       "{'destination_addresses': ['Generała T. Bora-Komorowskiego 5, 80-382 Gdańsk, Poland',\n",
       "  'Chełm - Więckowskiego 01, 80-766 Gdańsk, Poland',\n",
       "  'Kokoszki - Poczta 01, 80-298 Gdańsk, Poland',\n",
       "  'Gołębia 02, Gdynia, Poland',\n",
       "  'Jęczmienna 01, 81-006 Gdynia, Poland',\n",
       "  'Górnicza - Damroki 02, 81-572 Gdynia, Poland',\n",
       "  'Mickiewicza 01., 80-425 Gdańsk, Poland',\n",
       "  'Czermińskiego 01, 80-180 Gdańsk, Poland',\n",
       "  'Karczemki 01, 80-177 Gdańsk, Poland',\n",
       "  'Górecka 01, 80-644 Gdańsk, Poland',\n",
       "  'Ukośna 02, 80-058 Gdańsk, Poland',\n",
       "  'Ściegiennego 01, 81-200 Gdynia, Poland',\n",
       "  'Śluza 01, 80-700 Gdańsk, Poland',\n",
       "  'Mostek 01, 80-761 Gdańsk, Poland',\n",
       "  'Wiczlińska 02, 81-589 Gdynia, Poland',\n",
       "  'Chełm Witosa 04, 80-809 Gdańsk, Poland',\n",
       "  'Galeria Bałtycka 05, 80-265 Gdańsk, Poland',\n",
       "  'Chrzanowskiego 02, 80-257 Gdańsk, Poland',\n",
       "  'Kazimierz - Majowa 01, 84-230, Poland',\n",
       "  'Ejsmonda 02, 81-409 Gdynia, Poland'],\n",
       " 'origin_addresses': ['Niedźwiednik 01, 80-292 Gdańsk, Poland'],\n",
       " 'rows': [{'elements': [{'distance': {'text': '15.7 km', 'value': 15696},\n",
       "     'duration': {'text': '55 mins', 'value': 3303},\n",
       "     'status': 'OK'},\n",
       "    {'distance': {'text': '8.3 km', 'value': 8251},\n",
       "     'duration': {'text': '42 mins', 'value': 2519},\n",
       "     'status': 'OK'},\n",
       "    {'distance': {'text': '11.1 km', 'value': 11121},\n",
       "     'duration': {'text': '38 mins', 'value': 2295},\n",
       "     'status': 'OK'},\n",
       "    {'distance': {'text': '28.2 km', 'value': 28209},\n",
       "     'duration': {'text': '1 hour 21 mins', 'value': 4873},\n",
       "     'status': 'OK'},\n",
       "    {'distance': {'text': '30.9 km', 'value': 30927},\n",
       "     'duration': {'text': '1 hour 22 mins', 'value': 4914},\n",
       "     'status': 'OK'},\n",
       "    {'distance': {'text': '18.5 km', 'value': 18493},\n",
       "     'duration': {'text': '1 hour 24 mins', 'value': 5016},\n",
       "     'status': 'OK'},\n",
       "    {'distance': {'text': '14.2 km', 'value': 14209},\n",
       "     'duration': {'text': '51 mins', 'value': 3060},\n",
       "     'status': 'OK'},\n",
       "    {'distance': {'text': '13.7 km', 'value': 13689},\n",
       "     'duration': {'text': '48 mins', 'value': 2851},\n",
       "     'status': 'OK'},\n",
       "    {'distance': {'text': '15.0 km', 'value': 15008},\n",
       "     'duration': {'text': '48 mins', 'value': 2907},\n",
       "     'status': 'OK'},\n",
       "    {'distance': {'text': '21.3 km', 'value': 21275},\n",
       "     'duration': {'text': '1 hour 20 mins', 'value': 4800},\n",
       "     'status': 'OK'},\n",
       "    {'distance': {'text': '16.4 km', 'value': 16373},\n",
       "     'duration': {'text': '1 hour 2 mins', 'value': 3720},\n",
       "     'status': 'OK'},\n",
       "    {'distance': {'text': '28.2 km', 'value': 28212},\n",
       "     'duration': {'text': '1 hour 28 mins', 'value': 5298},\n",
       "     'status': 'OK'},\n",
       "    {'distance': {'text': '12.6 km', 'value': 12598},\n",
       "     'duration': {'text': '47 mins', 'value': 2823},\n",
       "     'status': 'OK'},\n",
       "    {'distance': {'text': '12.5 km', 'value': 12515},\n",
       "     'duration': {'text': '44 mins', 'value': 2612},\n",
       "     'status': 'OK'},\n",
       "    {'distance': {'text': '19.0 km', 'value': 18954},\n",
       "     'duration': {'text': '1 hour 21 mins', 'value': 4873},\n",
       "     'status': 'OK'},\n",
       "    {'distance': {'text': '7.9 km', 'value': 7945},\n",
       "     'duration': {'text': '38 mins', 'value': 2303},\n",
       "     'status': 'OK'},\n",
       "    {'distance': {'text': '3.5 km', 'value': 3532},\n",
       "     'duration': {'text': '20 mins', 'value': 1228},\n",
       "     'status': 'OK'},\n",
       "    {'distance': {'text': '2.1 km', 'value': 2075},\n",
       "     'duration': {'text': '24 mins', 'value': 1412},\n",
       "     'status': 'OK'},\n",
       "    {'distance': {'text': '37.6 km', 'value': 37648},\n",
       "     'duration': {'text': '1 hour 48 mins', 'value': 6468},\n",
       "     'status': 'OK'},\n",
       "    {'distance': {'text': '24.3 km', 'value': 24308},\n",
       "     'duration': {'text': '1 hour 14 mins', 'value': 4417},\n",
       "     'status': 'OK'}]}],\n",
       " 'status': 'OK'}"
      ]
     },
     "execution_count": 82,
     "metadata": {},
     "output_type": "execute_result"
    }
   ],
   "source": [
    "gmaps_cli = googlemaps.Client(key=API_KEY)\n",
    "\n",
    "result = gmaps_cli.distance_matrix(\n",
    "                            origins=origins_coord,\n",
    "                            destinations=dest_coord,\n",
    "                            mode='transit',\n",
    "                            units='metrics',\n",
    "                            departure_time=time,\n",
    "                            traffic_model='best_guess')\n",
    "\n",
    "result"
   ]
  },
  {
   "cell_type": "code",
   "execution_count": 83,
   "metadata": {},
   "outputs": [],
   "source": [
    "travel_times = [i['duration']['value'] for i in result['rows'][0]['elements']]"
   ]
  },
  {
   "cell_type": "code",
   "execution_count": 84,
   "metadata": {},
   "outputs": [],
   "source": [
    "lat_stops = [float(i.split(', ')[0]) for i in dest_coord]\n",
    "lon_stops = [float(i.split(', ')[1]) for i in dest_coord]"
   ]
  },
  {
   "cell_type": "code",
   "execution_count": 85,
   "metadata": {},
   "outputs": [],
   "source": [
    "origin_lat = float(origins_coord.split(', ')[0])\n",
    "origin_lon = float(origins_coord.split(', ')[1])"
   ]
  },
  {
   "cell_type": "code",
   "execution_count": 86,
   "metadata": {},
   "outputs": [
    {
     "data": {
      "text/plain": [
       "'\\n      t < 15  green\\n15 <= t < 30  blue\\n45 <= t < 60  yellow\\n60 <= t < 90  red\\n90 <= t       black\\n'"
      ]
     },
     "execution_count": 86,
     "metadata": {},
     "output_type": "execute_result"
    }
   ],
   "source": [
    "\"\"\"\n",
    "      t < 15  green\n",
    "15 <= t < 30  blue\n",
    "45 <= t < 60  yellow\n",
    "60 <= t < 90  red\n",
    "90 <= t       black\n",
    "\"\"\""
   ]
  },
  {
   "cell_type": "code",
   "execution_count": 87,
   "metadata": {},
   "outputs": [],
   "source": [
    "def times_to_colors(t):\n",
    "    if t < 900:\n",
    "        color = \"green\"\n",
    "    elif 900 <= t < 1800:\n",
    "        color = \"blue\"\n",
    "    elif 1800 <= t < 2700:\n",
    "        color = \"yellow\"\n",
    "    elif 2700 <= t < 3600:\n",
    "        color = \"red\"\n",
    "    else:\n",
    "        color = \"black\"\n",
    "    return color"
   ]
  },
  {
   "cell_type": "code",
   "execution_count": 88,
   "metadata": {},
   "outputs": [],
   "source": [
    "destination_times = pd.DataFrame({'lat': lat_stops, 'lon': lon_stops, 'time': travel_times})"
   ]
  },
  {
   "cell_type": "code",
   "execution_count": 89,
   "metadata": {},
   "outputs": [],
   "source": [
    "destination_times['color'] = destination_times['time'].apply(lambda x: times_to_colors(x))"
   ]
  },
  {
   "cell_type": "code",
   "execution_count": 100,
   "metadata": {},
   "outputs": [
    {
     "data": {
      "text/html": [
       "<div>\n",
       "<style scoped>\n",
       "    .dataframe tbody tr th:only-of-type {\n",
       "        vertical-align: middle;\n",
       "    }\n",
       "\n",
       "    .dataframe tbody tr th {\n",
       "        vertical-align: top;\n",
       "    }\n",
       "\n",
       "    .dataframe thead th {\n",
       "        text-align: right;\n",
       "    }\n",
       "</style>\n",
       "<table border=\"1\" class=\"dataframe\">\n",
       "  <thead>\n",
       "    <tr style=\"text-align: right;\">\n",
       "      <th></th>\n",
       "      <th>lat</th>\n",
       "      <th>lon</th>\n",
       "      <th>time</th>\n",
       "      <th>color</th>\n",
       "    </tr>\n",
       "  </thead>\n",
       "  <tbody>\n",
       "    <tr>\n",
       "      <th>0</th>\n",
       "      <td>54.40952</td>\n",
       "      <td>18.57776</td>\n",
       "      <td>3303</td>\n",
       "      <td>red</td>\n",
       "    </tr>\n",
       "    <tr>\n",
       "      <th>1</th>\n",
       "      <td>54.33398</td>\n",
       "      <td>18.61580</td>\n",
       "      <td>2519</td>\n",
       "      <td>yellow</td>\n",
       "    </tr>\n",
       "    <tr>\n",
       "      <th>2</th>\n",
       "      <td>54.36385</td>\n",
       "      <td>18.48111</td>\n",
       "      <td>2295</td>\n",
       "      <td>yellow</td>\n",
       "    </tr>\n",
       "    <tr>\n",
       "      <th>3</th>\n",
       "      <td>54.54406</td>\n",
       "      <td>18.49909</td>\n",
       "      <td>4873</td>\n",
       "      <td>black</td>\n",
       "    </tr>\n",
       "    <tr>\n",
       "      <th>4</th>\n",
       "      <td>54.54743</td>\n",
       "      <td>18.44199</td>\n",
       "      <td>4914</td>\n",
       "      <td>black</td>\n",
       "    </tr>\n",
       "    <tr>\n",
       "      <th>5</th>\n",
       "      <td>54.46816</td>\n",
       "      <td>18.48108</td>\n",
       "      <td>5016</td>\n",
       "      <td>black</td>\n",
       "    </tr>\n",
       "    <tr>\n",
       "      <th>6</th>\n",
       "      <td>54.38338</td>\n",
       "      <td>18.62058</td>\n",
       "      <td>3060</td>\n",
       "      <td>red</td>\n",
       "    </tr>\n",
       "    <tr>\n",
       "      <th>7</th>\n",
       "      <td>54.32241</td>\n",
       "      <td>18.55242</td>\n",
       "      <td>2851</td>\n",
       "      <td>red</td>\n",
       "    </tr>\n",
       "    <tr>\n",
       "      <th>8</th>\n",
       "      <td>54.34964</td>\n",
       "      <td>18.51244</td>\n",
       "      <td>2907</td>\n",
       "      <td>red</td>\n",
       "    </tr>\n",
       "    <tr>\n",
       "      <th>9</th>\n",
       "      <td>54.35534</td>\n",
       "      <td>18.74535</td>\n",
       "      <td>4800</td>\n",
       "      <td>black</td>\n",
       "    </tr>\n",
       "    <tr>\n",
       "      <th>10</th>\n",
       "      <td>54.31092</td>\n",
       "      <td>18.62953</td>\n",
       "      <td>3720</td>\n",
       "      <td>black</td>\n",
       "    </tr>\n",
       "    <tr>\n",
       "      <th>11</th>\n",
       "      <td>54.53106</td>\n",
       "      <td>18.48263</td>\n",
       "      <td>5298</td>\n",
       "      <td>black</td>\n",
       "    </tr>\n",
       "    <tr>\n",
       "      <th>12</th>\n",
       "      <td>54.34116</td>\n",
       "      <td>18.65822</td>\n",
       "      <td>2823</td>\n",
       "      <td>red</td>\n",
       "    </tr>\n",
       "    <tr>\n",
       "      <th>13</th>\n",
       "      <td>54.34936</td>\n",
       "      <td>18.67455</td>\n",
       "      <td>2612</td>\n",
       "      <td>yellow</td>\n",
       "    </tr>\n",
       "    <tr>\n",
       "      <th>14</th>\n",
       "      <td>54.47187</td>\n",
       "      <td>18.47883</td>\n",
       "      <td>4873</td>\n",
       "      <td>black</td>\n",
       "    </tr>\n",
       "    <tr>\n",
       "      <th>15</th>\n",
       "      <td>54.33741</td>\n",
       "      <td>18.61631</td>\n",
       "      <td>2303</td>\n",
       "      <td>yellow</td>\n",
       "    </tr>\n",
       "    <tr>\n",
       "      <th>16</th>\n",
       "      <td>54.38298</td>\n",
       "      <td>18.59881</td>\n",
       "      <td>1228</td>\n",
       "      <td>blue</td>\n",
       "    </tr>\n",
       "    <tr>\n",
       "      <th>17</th>\n",
       "      <td>54.38013</td>\n",
       "      <td>18.58689</td>\n",
       "      <td>1412</td>\n",
       "      <td>blue</td>\n",
       "    </tr>\n",
       "    <tr>\n",
       "      <th>18</th>\n",
       "      <td>54.59495</td>\n",
       "      <td>18.42970</td>\n",
       "      <td>6468</td>\n",
       "      <td>black</td>\n",
       "    </tr>\n",
       "    <tr>\n",
       "      <th>19</th>\n",
       "      <td>54.50488</td>\n",
       "      <td>18.55269</td>\n",
       "      <td>4417</td>\n",
       "      <td>black</td>\n",
       "    </tr>\n",
       "  </tbody>\n",
       "</table>\n",
       "</div>"
      ],
      "text/plain": [
       "         lat       lon  time   color\n",
       "0   54.40952  18.57776  3303     red\n",
       "1   54.33398  18.61580  2519  yellow\n",
       "2   54.36385  18.48111  2295  yellow\n",
       "3   54.54406  18.49909  4873   black\n",
       "4   54.54743  18.44199  4914   black\n",
       "5   54.46816  18.48108  5016   black\n",
       "6   54.38338  18.62058  3060     red\n",
       "7   54.32241  18.55242  2851     red\n",
       "8   54.34964  18.51244  2907     red\n",
       "9   54.35534  18.74535  4800   black\n",
       "10  54.31092  18.62953  3720   black\n",
       "11  54.53106  18.48263  5298   black\n",
       "12  54.34116  18.65822  2823     red\n",
       "13  54.34936  18.67455  2612  yellow\n",
       "14  54.47187  18.47883  4873   black\n",
       "15  54.33741  18.61631  2303  yellow\n",
       "16  54.38298  18.59881  1228    blue\n",
       "17  54.38013  18.58689  1412    blue\n",
       "18  54.59495  18.42970  6468   black\n",
       "19  54.50488  18.55269  4417   black"
      ]
     },
     "execution_count": 100,
     "metadata": {},
     "output_type": "execute_result"
    }
   ],
   "source": [
    "destination_times"
   ]
  },
  {
   "cell_type": "code",
   "execution_count": 108,
   "metadata": {},
   "outputs": [],
   "source": [
    "output_file(\"gmap.html\")\n",
    "\n",
    "map_options = GMapOptions(lat=origin_lat, lng=origin_lon, map_type=\"roadmap\", zoom=11)\n",
    "\n",
    "p = gmap(API_KEY, map_options, title=\"3city\")\n",
    "\n",
    "source = ColumnDataSource(\n",
    "                    data=dict(lat=destination_times.lat.to_list(),\n",
    "                              lon=destination_times.lon.to_list(),\n",
    "                              color=destination_times.color.to_list())\n",
    ")\n",
    "origin = ColumnDataSource(\n",
    "                    data=dict(lat=[origin_lat],\n",
    "                              lon=[origin_lon])\n",
    ")\n",
    "\n",
    "p.circle(x=\"lon\", y=\"lat\", size=15, fill_color=\"color\", fill_alpha=0.8, source=source)\n",
    "p.circle(x=\"lon\", y=\"lat\", size=20, fill_color=\"grey\", fill_alpha=0.8, source=origin)\n",
    "\n",
    "show(p)"
   ]
  },
  {
   "cell_type": "code",
   "execution_count": 104,
   "metadata": {},
   "outputs": [],
   "source": [
    "source = ColumnDataSource(\n",
    "                    data=dict(lat=destination_times.lat.to_list(),\n",
    "                              lon=destination_times.lon.to_list(),\n",
    "                              color=destination_times.color.to_list()))"
   ]
  },
  {
   "cell_type": "code",
   "execution_count": 107,
   "metadata": {},
   "outputs": [
    {
     "data": {
      "text/plain": [
       "['red',\n",
       " 'yellow',\n",
       " 'yellow',\n",
       " 'black',\n",
       " 'black',\n",
       " 'black',\n",
       " 'red',\n",
       " 'red',\n",
       " 'red',\n",
       " 'black',\n",
       " 'black',\n",
       " 'black',\n",
       " 'red',\n",
       " 'yellow',\n",
       " 'black',\n",
       " 'yellow',\n",
       " 'blue',\n",
       " 'blue',\n",
       " 'black',\n",
       " 'black']"
      ]
     },
     "execution_count": 107,
     "metadata": {},
     "output_type": "execute_result"
    }
   ],
   "source": [
    "source.data[\"color\"]"
   ]
  },
  {
   "cell_type": "code",
   "execution_count": null,
   "metadata": {},
   "outputs": [],
   "source": []
  },
  {
   "cell_type": "code",
   "execution_count": null,
   "metadata": {},
   "outputs": [],
   "source": []
  },
  {
   "cell_type": "code",
   "execution_count": null,
   "metadata": {},
   "outputs": [],
   "source": []
  }
 ],
 "metadata": {
  "kernelspec": {
   "display_name": "3city",
   "language": "python",
   "name": "3city"
  },
  "language_info": {
   "codemirror_mode": {
    "name": "ipython",
    "version": 3
   },
   "file_extension": ".py",
   "mimetype": "text/x-python",
   "name": "python",
   "nbconvert_exporter": "python",
   "pygments_lexer": "ipython3",
   "version": "3.7.5"
  }
 },
 "nbformat": 4,
 "nbformat_minor": 2
}
