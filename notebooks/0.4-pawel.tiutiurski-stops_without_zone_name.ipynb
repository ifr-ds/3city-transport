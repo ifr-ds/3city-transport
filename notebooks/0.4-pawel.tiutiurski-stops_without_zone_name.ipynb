{
 "cells": [
  {
   "cell_type": "code",
   "execution_count": 1,
   "metadata": {},
   "outputs": [],
   "source": [
    "import pandas as pd\n",
    "import googlemaps\n",
    "import sys\n",
    "sys.path.insert(0, \"..\")\n",
    "%load_ext autoreload\n",
    "%autoreload 2\n",
    "from src.secrets import API_KEY"
   ]
  },
  {
   "cell_type": "code",
   "execution_count": 2,
   "metadata": {},
   "outputs": [],
   "source": [
    "df = pd.read_csv(\"../data/ztm_Gdansk.csv\", index_col=0)"
   ]
  },
  {
   "cell_type": "code",
   "execution_count": 3,
   "metadata": {},
   "outputs": [
    {
     "data": {
      "text/html": [
       "<div>\n",
       "<style scoped>\n",
       "    .dataframe tbody tr th:only-of-type {\n",
       "        vertical-align: middle;\n",
       "    }\n",
       "\n",
       "    .dataframe tbody tr th {\n",
       "        vertical-align: top;\n",
       "    }\n",
       "\n",
       "    .dataframe thead th {\n",
       "        text-align: right;\n",
       "    }\n",
       "</style>\n",
       "<table border=\"1\" class=\"dataframe\">\n",
       "  <thead>\n",
       "    <tr style=\"text-align: right;\">\n",
       "      <th></th>\n",
       "      <th>stopName</th>\n",
       "      <th>stopDesc</th>\n",
       "      <th>zoneId</th>\n",
       "      <th>zoneName</th>\n",
       "      <th>stopLat</th>\n",
       "      <th>stopLon</th>\n",
       "    </tr>\n",
       "  </thead>\n",
       "  <tbody>\n",
       "    <tr>\n",
       "      <th>0</th>\n",
       "      <td>Dąbrowa Centrum</td>\n",
       "      <td>Gdynia Dąbrowa Centrum</td>\n",
       "      <td>5.0</td>\n",
       "      <td>Gdynia</td>\n",
       "      <td>54.47317</td>\n",
       "      <td>18.46509</td>\n",
       "    </tr>\n",
       "    <tr>\n",
       "      <th>1</th>\n",
       "      <td>Kameliowa</td>\n",
       "      <td>Gdynia Kameliowa</td>\n",
       "      <td>5.0</td>\n",
       "      <td>Gdynia</td>\n",
       "      <td>54.47018</td>\n",
       "      <td>18.46820</td>\n",
       "    </tr>\n",
       "    <tr>\n",
       "      <th>2</th>\n",
       "      <td>Paprykowa</td>\n",
       "      <td>Gdynia Paprykowa</td>\n",
       "      <td>5.0</td>\n",
       "      <td>Gdynia</td>\n",
       "      <td>54.46784</td>\n",
       "      <td>18.46546</td>\n",
       "    </tr>\n",
       "    <tr>\n",
       "      <th>3</th>\n",
       "      <td>Szafranowa</td>\n",
       "      <td>Gdynia Szafranowa</td>\n",
       "      <td>5.0</td>\n",
       "      <td>Gdynia</td>\n",
       "      <td>54.46536</td>\n",
       "      <td>18.46020</td>\n",
       "    </tr>\n",
       "    <tr>\n",
       "      <th>4</th>\n",
       "      <td>Giełda Towarowa</td>\n",
       "      <td>Gdynia Giełda Towarowa</td>\n",
       "      <td>5.0</td>\n",
       "      <td>Gdynia</td>\n",
       "      <td>54.46224</td>\n",
       "      <td>18.45337</td>\n",
       "    </tr>\n",
       "  </tbody>\n",
       "</table>\n",
       "</div>"
      ],
      "text/plain": [
       "          stopName                stopDesc  zoneId zoneName   stopLat  \\\n",
       "0  Dąbrowa Centrum  Gdynia Dąbrowa Centrum     5.0   Gdynia  54.47317   \n",
       "1        Kameliowa        Gdynia Kameliowa     5.0   Gdynia  54.47018   \n",
       "2        Paprykowa        Gdynia Paprykowa     5.0   Gdynia  54.46784   \n",
       "3       Szafranowa       Gdynia Szafranowa     5.0   Gdynia  54.46536   \n",
       "4  Giełda Towarowa  Gdynia Giełda Towarowa     5.0   Gdynia  54.46224   \n",
       "\n",
       "    stopLon  \n",
       "0  18.46509  \n",
       "1  18.46820  \n",
       "2  18.46546  \n",
       "3  18.46020  \n",
       "4  18.45337  "
      ]
     },
     "execution_count": 3,
     "metadata": {},
     "output_type": "execute_result"
    }
   ],
   "source": [
    "df.head()"
   ]
  },
  {
   "cell_type": "code",
   "execution_count": 13,
   "metadata": {},
   "outputs": [],
   "source": [
    "df_zone = df[~df['zoneName'].isnull()].reset_index(drop=True)"
   ]
  },
  {
   "cell_type": "code",
   "execution_count": 14,
   "metadata": {},
   "outputs": [],
   "source": [
    "df_empty_zone = df[df['zoneName'].isnull()].reset_index(drop=True)"
   ]
  },
  {
   "cell_type": "code",
   "execution_count": 52,
   "metadata": {},
   "outputs": [],
   "source": [
    "def split_df(start, stop):\n",
    "    df = df_empty_zone.iloc[start:stop,:].copy()\n",
    "    df['coord'] = df.apply(lambda x: f\"{x['stopLat']}, {x['stopLon']}\", axis=1)\n",
    "    return df.sort_values('coord')"
   ]
  },
  {
   "cell_type": "code",
   "execution_count": 81,
   "metadata": {},
   "outputs": [],
   "source": [
    "df_0_100 = split_df(0,100).drop('zoneName', axis=1)"
   ]
  },
  {
   "cell_type": "code",
   "execution_count": 83,
   "metadata": {},
   "outputs": [],
   "source": [
    "df_100_200 = split_df(100,200).drop('zoneName', axis=1)"
   ]
  },
  {
   "cell_type": "code",
   "execution_count": 84,
   "metadata": {},
   "outputs": [],
   "source": [
    "df_200_300 = split_df(200,300).drop('zoneName', axis=1)"
   ]
  },
  {
   "cell_type": "code",
   "execution_count": 85,
   "metadata": {},
   "outputs": [],
   "source": [
    "df_300_400 = split_df(300,400).drop('zoneName', axis=1)"
   ]
  },
  {
   "cell_type": "code",
   "execution_count": 86,
   "metadata": {},
   "outputs": [],
   "source": [
    "df_400_500 = split_df(400,500).drop('zoneName', axis=1)"
   ]
  },
  {
   "cell_type": "code",
   "execution_count": 87,
   "metadata": {},
   "outputs": [],
   "source": [
    "df_500_end = split_df(500, 550).drop('zoneName', axis=1)"
   ]
  },
  {
   "cell_type": "code",
   "execution_count": null,
   "metadata": {},
   "outputs": [],
   "source": []
  },
  {
   "cell_type": "code",
   "execution_count": 60,
   "metadata": {},
   "outputs": [
    {
     "data": {
      "text/plain": [
       "'54.38, 18.55937'"
      ]
     },
     "execution_count": 60,
     "metadata": {},
     "output_type": "execute_result"
    }
   ],
   "source": [
    "df_zone['coord'] = df_zone.apply(lambda x: f\"{x['stopLat']}, {x['stopLon']}\", axis=1)\n",
    "\n",
    "origin = df_zone[df_zone['stopDesc'] == 'Niedźwiednik']['coord'].iloc[0]\n",
    "origin"
   ]
  },
  {
   "cell_type": "code",
   "execution_count": null,
   "metadata": {},
   "outputs": [],
   "source": []
  },
  {
   "cell_type": "code",
   "execution_count": 4,
   "metadata": {},
   "outputs": [],
   "source": [
    "from datetime import datetime\n",
    "time = datetime.now()"
   ]
  },
  {
   "cell_type": "code",
   "execution_count": 61,
   "metadata": {},
   "outputs": [],
   "source": [
    "from src.distance_matrix_api import get_time_of_travel"
   ]
  },
  {
   "cell_type": "code",
   "execution_count": 62,
   "metadata": {},
   "outputs": [],
   "source": [
    "result_0_100 = get_time_of_travel(origin, df_0_100['coord'].to_list(), time)"
   ]
  },
  {
   "cell_type": "code",
   "execution_count": 90,
   "metadata": {},
   "outputs": [],
   "source": [
    "result_100_200 = get_time_of_travel(origin, df_100_200['coord'].to_list(), time)"
   ]
  },
  {
   "cell_type": "code",
   "execution_count": 91,
   "metadata": {},
   "outputs": [],
   "source": [
    "result_200_300 = get_time_of_travel(origin, df_200_300['coord'].to_list(), time)"
   ]
  },
  {
   "cell_type": "code",
   "execution_count": 92,
   "metadata": {},
   "outputs": [],
   "source": [
    "result_300_400 = get_time_of_travel(origin, df_300_400['coord'].to_list(), time)"
   ]
  },
  {
   "cell_type": "code",
   "execution_count": 93,
   "metadata": {},
   "outputs": [],
   "source": [
    "result_400_500 = get_time_of_travel(origin, df_400_500['coord'].to_list(), time)"
   ]
  },
  {
   "cell_type": "code",
   "execution_count": 94,
   "metadata": {},
   "outputs": [],
   "source": [
    "result_500_end = get_time_of_travel(origin, df_500_end['coord'].to_list(), time)"
   ]
  },
  {
   "cell_type": "code",
   "execution_count": null,
   "metadata": {},
   "outputs": [],
   "source": []
  },
  {
   "cell_type": "code",
   "execution_count": 78,
   "metadata": {},
   "outputs": [],
   "source": [
    "def get_zone(result):\n",
    "    adresses = result['destination_addresses']\n",
    "    city = [place.split(', ')[1] for place in adresses]\n",
    "    \n",
    "    zones = []\n",
    "    for z in city:\n",
    "        element = z.split(' ')\n",
    "        if len(element) > 1:\n",
    "            zones.append(element[1])\n",
    "        else:\n",
    "            zones.append(element[0])\n",
    "    return zones"
   ]
  },
  {
   "cell_type": "code",
   "execution_count": 88,
   "metadata": {},
   "outputs": [],
   "source": [
    "df_0_100['zoneName'] = get_zone(result_0_100)"
   ]
  },
  {
   "cell_type": "code",
   "execution_count": 95,
   "metadata": {},
   "outputs": [],
   "source": [
    "df_100_200['zoneName'] = get_zone(result_100_200)"
   ]
  },
  {
   "cell_type": "code",
   "execution_count": 96,
   "metadata": {},
   "outputs": [],
   "source": [
    "df_200_300['zoneName'] = get_zone(result_200_300)"
   ]
  },
  {
   "cell_type": "code",
   "execution_count": 97,
   "metadata": {},
   "outputs": [],
   "source": [
    "df_300_400['zoneName'] = get_zone(result_300_400)"
   ]
  },
  {
   "cell_type": "code",
   "execution_count": 98,
   "metadata": {},
   "outputs": [],
   "source": [
    "df_400_500['zoneName'] = get_zone(result_400_500)"
   ]
  },
  {
   "cell_type": "code",
   "execution_count": 99,
   "metadata": {},
   "outputs": [],
   "source": [
    "df_500_end['zoneName'] = get_zone(result_500_end)"
   ]
  },
  {
   "cell_type": "code",
   "execution_count": null,
   "metadata": {},
   "outputs": [],
   "source": []
  },
  {
   "cell_type": "code",
   "execution_count": 103,
   "metadata": {},
   "outputs": [],
   "source": [
    "correct_zones = ['Gdańsk', 'Sopot', \"Gdynia\"]\n",
    "df_lists = [df_0_100, df_100_200, df_200_300, df_300_400, df_400_500, df_500_end]\n",
    "df_zones_checked = pd.DataFrame()\n",
    "\n",
    "for df in df_lists:\n",
    "    df_filtered = df[df['zoneName'].isin(correct_zones)]\n",
    "    df_zones_checked = df_zones_checked.append(df_filtered)"
   ]
  },
  {
   "cell_type": "code",
   "execution_count": 104,
   "metadata": {},
   "outputs": [
    {
     "data": {
      "text/html": [
       "<div>\n",
       "<style scoped>\n",
       "    .dataframe tbody tr th:only-of-type {\n",
       "        vertical-align: middle;\n",
       "    }\n",
       "\n",
       "    .dataframe tbody tr th {\n",
       "        vertical-align: top;\n",
       "    }\n",
       "\n",
       "    .dataframe thead th {\n",
       "        text-align: right;\n",
       "    }\n",
       "</style>\n",
       "<table border=\"1\" class=\"dataframe\">\n",
       "  <thead>\n",
       "    <tr style=\"text-align: right;\">\n",
       "      <th></th>\n",
       "      <th>stopName</th>\n",
       "      <th>stopDesc</th>\n",
       "      <th>zoneId</th>\n",
       "      <th>stopLat</th>\n",
       "      <th>stopLon</th>\n",
       "      <th>coord</th>\n",
       "      <th>zoneName</th>\n",
       "    </tr>\n",
       "  </thead>\n",
       "  <tbody>\n",
       "    <tr>\n",
       "      <th>84</th>\n",
       "      <td>NaN</td>\n",
       "      <td>Sikorskiego (N/Ż)</td>\n",
       "      <td>NaN</td>\n",
       "      <td>54.33886</td>\n",
       "      <td>18.61888</td>\n",
       "      <td>54.33886, 18.618879999999997</td>\n",
       "      <td>Gdańsk</td>\n",
       "    </tr>\n",
       "    <tr>\n",
       "      <th>92</th>\n",
       "      <td>NaN</td>\n",
       "      <td>Otomińska (N/Ż)</td>\n",
       "      <td>NaN</td>\n",
       "      <td>54.34412</td>\n",
       "      <td>18.51058</td>\n",
       "      <td>54.34412, 18.510579999999997</td>\n",
       "      <td>Gdańsk</td>\n",
       "    </tr>\n",
       "    <tr>\n",
       "      <th>0</th>\n",
       "      <td>NaN</td>\n",
       "      <td>Nabrzeże Przemysłowe</td>\n",
       "      <td>NaN</td>\n",
       "      <td>54.37428</td>\n",
       "      <td>18.66562</td>\n",
       "      <td>54.374280000000006, 18.66562</td>\n",
       "      <td>Gdańsk</td>\n",
       "    </tr>\n",
       "    <tr>\n",
       "      <th>98</th>\n",
       "      <td>NaN</td>\n",
       "      <td>Malczewskiego</td>\n",
       "      <td>NaN</td>\n",
       "      <td>54.45035</td>\n",
       "      <td>18.55304</td>\n",
       "      <td>54.45035, 18.55304</td>\n",
       "      <td>Sopot</td>\n",
       "    </tr>\n",
       "    <tr>\n",
       "      <th>96</th>\n",
       "      <td>NaN</td>\n",
       "      <td>Wejherowska</td>\n",
       "      <td>NaN</td>\n",
       "      <td>54.45304</td>\n",
       "      <td>18.55528</td>\n",
       "      <td>54.45304, 18.55528</td>\n",
       "      <td>Sopot</td>\n",
       "    </tr>\n",
       "    <tr>\n",
       "      <th>...</th>\n",
       "      <td>...</td>\n",
       "      <td>...</td>\n",
       "      <td>...</td>\n",
       "      <td>...</td>\n",
       "      <td>...</td>\n",
       "      <td>...</td>\n",
       "      <td>...</td>\n",
       "    </tr>\n",
       "    <tr>\n",
       "      <th>508</th>\n",
       "      <td>NaN</td>\n",
       "      <td>Szkoła Morska</td>\n",
       "      <td>NaN</td>\n",
       "      <td>54.52940</td>\n",
       "      <td>18.53770</td>\n",
       "      <td>54.5294, 18.5377</td>\n",
       "      <td>Gdynia</td>\n",
       "    </tr>\n",
       "    <tr>\n",
       "      <th>525</th>\n",
       "      <td>NaN</td>\n",
       "      <td>Chrzanowskiego - Przychodnia</td>\n",
       "      <td>NaN</td>\n",
       "      <td>54.52996</td>\n",
       "      <td>18.54236</td>\n",
       "      <td>54.529959999999996, 18.542360000000002</td>\n",
       "      <td>Gdynia</td>\n",
       "    </tr>\n",
       "    <tr>\n",
       "      <th>504</th>\n",
       "      <td>NaN</td>\n",
       "      <td>Stocznia Gdynia</td>\n",
       "      <td>NaN</td>\n",
       "      <td>54.53219</td>\n",
       "      <td>18.51689</td>\n",
       "      <td>54.53219, 18.51689</td>\n",
       "      <td>Gdynia</td>\n",
       "    </tr>\n",
       "    <tr>\n",
       "      <th>510</th>\n",
       "      <td>NaN</td>\n",
       "      <td>Janka Wiśniewskiego</td>\n",
       "      <td>NaN</td>\n",
       "      <td>54.53263</td>\n",
       "      <td>18.50903</td>\n",
       "      <td>54.532630000000005, 18.50903</td>\n",
       "      <td>Gdynia</td>\n",
       "    </tr>\n",
       "    <tr>\n",
       "      <th>512</th>\n",
       "      <td>NaN</td>\n",
       "      <td>Energetyków</td>\n",
       "      <td>NaN</td>\n",
       "      <td>54.53967</td>\n",
       "      <td>18.49937</td>\n",
       "      <td>54.539669999999994, 18.499370000000003</td>\n",
       "      <td>Gdynia</td>\n",
       "    </tr>\n",
       "  </tbody>\n",
       "</table>\n",
       "<p>344 rows × 7 columns</p>\n",
       "</div>"
      ],
      "text/plain": [
       "    stopName                      stopDesc  zoneId   stopLat   stopLon  \\\n",
       "84       NaN             Sikorskiego (N/Ż)     NaN  54.33886  18.61888   \n",
       "92       NaN               Otomińska (N/Ż)     NaN  54.34412  18.51058   \n",
       "0        NaN          Nabrzeże Przemysłowe     NaN  54.37428  18.66562   \n",
       "98       NaN                 Malczewskiego     NaN  54.45035  18.55304   \n",
       "96       NaN                   Wejherowska     NaN  54.45304  18.55528   \n",
       "..       ...                           ...     ...       ...       ...   \n",
       "508      NaN                 Szkoła Morska     NaN  54.52940  18.53770   \n",
       "525      NaN  Chrzanowskiego - Przychodnia     NaN  54.52996  18.54236   \n",
       "504      NaN               Stocznia Gdynia     NaN  54.53219  18.51689   \n",
       "510      NaN           Janka Wiśniewskiego     NaN  54.53263  18.50903   \n",
       "512      NaN                   Energetyków     NaN  54.53967  18.49937   \n",
       "\n",
       "                                      coord zoneName  \n",
       "84             54.33886, 18.618879999999997   Gdańsk  \n",
       "92             54.34412, 18.510579999999997   Gdańsk  \n",
       "0              54.374280000000006, 18.66562   Gdańsk  \n",
       "98                       54.45035, 18.55304    Sopot  \n",
       "96                       54.45304, 18.55528    Sopot  \n",
       "..                                      ...      ...  \n",
       "508                        54.5294, 18.5377   Gdynia  \n",
       "525  54.529959999999996, 18.542360000000002   Gdynia  \n",
       "504                      54.53219, 18.51689   Gdynia  \n",
       "510            54.532630000000005, 18.50903   Gdynia  \n",
       "512  54.539669999999994, 18.499370000000003   Gdynia  \n",
       "\n",
       "[344 rows x 7 columns]"
      ]
     },
     "execution_count": 104,
     "metadata": {},
     "output_type": "execute_result"
    }
   ],
   "source": [
    "df_zones_checked"
   ]
  },
  {
   "cell_type": "code",
   "execution_count": null,
   "metadata": {},
   "outputs": [],
   "source": []
  },
  {
   "cell_type": "code",
   "execution_count": 108,
   "metadata": {},
   "outputs": [],
   "source": [
    "df_all = df_zone.append(df_zones_checked[df_zone.columns.to_list()]).reset_index(drop=True)"
   ]
  },
  {
   "cell_type": "code",
   "execution_count": 109,
   "metadata": {},
   "outputs": [
    {
     "data": {
      "text/html": [
       "<div>\n",
       "<style scoped>\n",
       "    .dataframe tbody tr th:only-of-type {\n",
       "        vertical-align: middle;\n",
       "    }\n",
       "\n",
       "    .dataframe tbody tr th {\n",
       "        vertical-align: top;\n",
       "    }\n",
       "\n",
       "    .dataframe thead th {\n",
       "        text-align: right;\n",
       "    }\n",
       "</style>\n",
       "<table border=\"1\" class=\"dataframe\">\n",
       "  <thead>\n",
       "    <tr style=\"text-align: right;\">\n",
       "      <th></th>\n",
       "      <th>stopName</th>\n",
       "      <th>stopDesc</th>\n",
       "      <th>zoneId</th>\n",
       "      <th>zoneName</th>\n",
       "      <th>stopLat</th>\n",
       "      <th>stopLon</th>\n",
       "      <th>coord</th>\n",
       "    </tr>\n",
       "  </thead>\n",
       "  <tbody>\n",
       "    <tr>\n",
       "      <th>0</th>\n",
       "      <td>Dąbrowa Centrum</td>\n",
       "      <td>Gdynia Dąbrowa Centrum</td>\n",
       "      <td>5.0</td>\n",
       "      <td>Gdynia</td>\n",
       "      <td>54.47317</td>\n",
       "      <td>18.46509</td>\n",
       "      <td>54.473169999999996, 18.46509</td>\n",
       "    </tr>\n",
       "    <tr>\n",
       "      <th>1</th>\n",
       "      <td>Kameliowa</td>\n",
       "      <td>Gdynia Kameliowa</td>\n",
       "      <td>5.0</td>\n",
       "      <td>Gdynia</td>\n",
       "      <td>54.47018</td>\n",
       "      <td>18.46820</td>\n",
       "      <td>54.470180000000006, 18.4682</td>\n",
       "    </tr>\n",
       "    <tr>\n",
       "      <th>2</th>\n",
       "      <td>Paprykowa</td>\n",
       "      <td>Gdynia Paprykowa</td>\n",
       "      <td>5.0</td>\n",
       "      <td>Gdynia</td>\n",
       "      <td>54.46784</td>\n",
       "      <td>18.46546</td>\n",
       "      <td>54.46784, 18.46546</td>\n",
       "    </tr>\n",
       "    <tr>\n",
       "      <th>3</th>\n",
       "      <td>Szafranowa</td>\n",
       "      <td>Gdynia Szafranowa</td>\n",
       "      <td>5.0</td>\n",
       "      <td>Gdynia</td>\n",
       "      <td>54.46536</td>\n",
       "      <td>18.46020</td>\n",
       "      <td>54.46536, 18.4602</td>\n",
       "    </tr>\n",
       "    <tr>\n",
       "      <th>4</th>\n",
       "      <td>Giełda Towarowa</td>\n",
       "      <td>Gdynia Giełda Towarowa</td>\n",
       "      <td>5.0</td>\n",
       "      <td>Gdynia</td>\n",
       "      <td>54.46224</td>\n",
       "      <td>18.45337</td>\n",
       "      <td>54.46224, 18.45337</td>\n",
       "    </tr>\n",
       "    <tr>\n",
       "      <th>...</th>\n",
       "      <td>...</td>\n",
       "      <td>...</td>\n",
       "      <td>...</td>\n",
       "      <td>...</td>\n",
       "      <td>...</td>\n",
       "      <td>...</td>\n",
       "      <td>...</td>\n",
       "    </tr>\n",
       "    <tr>\n",
       "      <th>984</th>\n",
       "      <td>NaN</td>\n",
       "      <td>Szkoła Morska</td>\n",
       "      <td>NaN</td>\n",
       "      <td>Gdynia</td>\n",
       "      <td>54.52940</td>\n",
       "      <td>18.53770</td>\n",
       "      <td>54.5294, 18.5377</td>\n",
       "    </tr>\n",
       "    <tr>\n",
       "      <th>985</th>\n",
       "      <td>NaN</td>\n",
       "      <td>Chrzanowskiego - Przychodnia</td>\n",
       "      <td>NaN</td>\n",
       "      <td>Gdynia</td>\n",
       "      <td>54.52996</td>\n",
       "      <td>18.54236</td>\n",
       "      <td>54.529959999999996, 18.542360000000002</td>\n",
       "    </tr>\n",
       "    <tr>\n",
       "      <th>986</th>\n",
       "      <td>NaN</td>\n",
       "      <td>Stocznia Gdynia</td>\n",
       "      <td>NaN</td>\n",
       "      <td>Gdynia</td>\n",
       "      <td>54.53219</td>\n",
       "      <td>18.51689</td>\n",
       "      <td>54.53219, 18.51689</td>\n",
       "    </tr>\n",
       "    <tr>\n",
       "      <th>987</th>\n",
       "      <td>NaN</td>\n",
       "      <td>Janka Wiśniewskiego</td>\n",
       "      <td>NaN</td>\n",
       "      <td>Gdynia</td>\n",
       "      <td>54.53263</td>\n",
       "      <td>18.50903</td>\n",
       "      <td>54.532630000000005, 18.50903</td>\n",
       "    </tr>\n",
       "    <tr>\n",
       "      <th>988</th>\n",
       "      <td>NaN</td>\n",
       "      <td>Energetyków</td>\n",
       "      <td>NaN</td>\n",
       "      <td>Gdynia</td>\n",
       "      <td>54.53967</td>\n",
       "      <td>18.49937</td>\n",
       "      <td>54.539669999999994, 18.499370000000003</td>\n",
       "    </tr>\n",
       "  </tbody>\n",
       "</table>\n",
       "<p>989 rows × 7 columns</p>\n",
       "</div>"
      ],
      "text/plain": [
       "            stopName                      stopDesc  zoneId zoneName   stopLat  \\\n",
       "0    Dąbrowa Centrum        Gdynia Dąbrowa Centrum     5.0   Gdynia  54.47317   \n",
       "1          Kameliowa              Gdynia Kameliowa     5.0   Gdynia  54.47018   \n",
       "2          Paprykowa              Gdynia Paprykowa     5.0   Gdynia  54.46784   \n",
       "3         Szafranowa             Gdynia Szafranowa     5.0   Gdynia  54.46536   \n",
       "4    Giełda Towarowa        Gdynia Giełda Towarowa     5.0   Gdynia  54.46224   \n",
       "..               ...                           ...     ...      ...       ...   \n",
       "984              NaN                 Szkoła Morska     NaN   Gdynia  54.52940   \n",
       "985              NaN  Chrzanowskiego - Przychodnia     NaN   Gdynia  54.52996   \n",
       "986              NaN               Stocznia Gdynia     NaN   Gdynia  54.53219   \n",
       "987              NaN           Janka Wiśniewskiego     NaN   Gdynia  54.53263   \n",
       "988              NaN                   Energetyków     NaN   Gdynia  54.53967   \n",
       "\n",
       "      stopLon                                   coord  \n",
       "0    18.46509            54.473169999999996, 18.46509  \n",
       "1    18.46820             54.470180000000006, 18.4682  \n",
       "2    18.46546                      54.46784, 18.46546  \n",
       "3    18.46020                       54.46536, 18.4602  \n",
       "4    18.45337                      54.46224, 18.45337  \n",
       "..        ...                                     ...  \n",
       "984  18.53770                        54.5294, 18.5377  \n",
       "985  18.54236  54.529959999999996, 18.542360000000002  \n",
       "986  18.51689                      54.53219, 18.51689  \n",
       "987  18.50903            54.532630000000005, 18.50903  \n",
       "988  18.49937  54.539669999999994, 18.499370000000003  \n",
       "\n",
       "[989 rows x 7 columns]"
      ]
     },
     "execution_count": 109,
     "metadata": {},
     "output_type": "execute_result"
    }
   ],
   "source": [
    "df_all"
   ]
  },
  {
   "cell_type": "code",
   "execution_count": 110,
   "metadata": {},
   "outputs": [],
   "source": [
    "df_all.to_csv(\"../data/stops_3city_checked.csv\")"
   ]
  },
  {
   "cell_type": "code",
   "execution_count": null,
   "metadata": {},
   "outputs": [],
   "source": []
  }
 ],
 "metadata": {
  "kernelspec": {
   "display_name": "3city",
   "language": "python",
   "name": "3city"
  },
  "language_info": {
   "codemirror_mode": {
    "name": "ipython",
    "version": 3
   },
   "file_extension": ".py",
   "mimetype": "text/x-python",
   "name": "python",
   "nbconvert_exporter": "python",
   "pygments_lexer": "ipython3",
   "version": "3.7.5"
  }
 },
 "nbformat": 4,
 "nbformat_minor": 2
}
