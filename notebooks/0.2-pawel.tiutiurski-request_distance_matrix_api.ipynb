{
 "cells": [
  {
   "cell_type": "code",
   "execution_count": null,
   "metadata": {},
   "outputs": [],
   "source": []
  },
  {
   "cell_type": "code",
   "execution_count": null,
   "metadata": {},
   "outputs": [],
   "source": []
  },
  {
   "cell_type": "code",
   "execution_count": 2,
   "metadata": {},
   "outputs": [],
   "source": [
    "import sys\n",
    "import googlemaps\n",
    "from datetime import datetime\n",
    "\n",
    "sys.path.insert(0, \"..\")\n",
    "%load_ext autoreload\n",
    "%autoreload 2\n",
    "from src.secrets import API_KEY"
   ]
  },
  {
   "cell_type": "code",
   "execution_count": 3,
   "metadata": {},
   "outputs": [],
   "source": [
    "gmaps = googlemaps.Client(key=API_KEY)"
   ]
  },
  {
   "cell_type": "code",
   "execution_count": 4,
   "metadata": {},
   "outputs": [
    {
     "data": {
      "text/plain": [
       "datetime.datetime(2020, 3, 18, 14, 31, 26, 257056)"
      ]
     },
     "execution_count": 4,
     "metadata": {},
     "output_type": "execute_result"
    }
   ],
   "source": [
    "time = datetime.now()\n",
    "time"
   ]
  },
  {
   "cell_type": "code",
   "execution_count": 5,
   "metadata": {},
   "outputs": [],
   "source": [
    "distance_result = gmaps.distance_matrix(origins='Niedźwiednik 01, 80-292 Gdańsk',\n",
    "                                        destinations='Miszewskiego 02, Gdańsk',\n",
    "                                        mode='transit',\n",
    "                                        units='metrics',\n",
    "                                        departure_time=time,\n",
    "                                        traffic_model='best_guess')"
   ]
  },
  {
   "cell_type": "code",
   "execution_count": 6,
   "metadata": {},
   "outputs": [
    {
     "data": {
      "text/plain": [
       "{'destination_addresses': ['Miszewskiego 02, Gdańsk, Poland'],\n",
       " 'origin_addresses': ['Niedźwiednik 01, 80-292 Gdańsk, Poland'],\n",
       " 'rows': [{'elements': [{'distance': {'text': '5.1 km', 'value': 5149},\n",
       "     'duration': {'text': '28 mins', 'value': 1680},\n",
       "     'status': 'OK'}]}],\n",
       " 'status': 'OK'}"
      ]
     },
     "execution_count": 6,
     "metadata": {},
     "output_type": "execute_result"
    }
   ],
   "source": [
    "distance_result"
   ]
  },
  {
   "cell_type": "code",
   "execution_count": null,
   "metadata": {},
   "outputs": [],
   "source": []
  }
 ],
 "metadata": {
  "kernelspec": {
   "display_name": "3city",
   "language": "python",
   "name": "3city"
  },
  "language_info": {
   "codemirror_mode": {
    "name": "ipython",
    "version": 3
   },
   "file_extension": ".py",
   "mimetype": "text/x-python",
   "name": "python",
   "nbconvert_exporter": "python",
   "pygments_lexer": "ipython3",
   "version": "3.7.5"
  }
 },
 "nbformat": 4,
 "nbformat_minor": 2
}
