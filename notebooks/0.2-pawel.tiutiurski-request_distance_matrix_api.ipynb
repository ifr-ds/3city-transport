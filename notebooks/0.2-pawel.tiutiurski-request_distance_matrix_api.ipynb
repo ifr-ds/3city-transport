{
 "cells": [
  {
   "cell_type": "code",
   "execution_count": 8,
   "metadata": {},
   "outputs": [
    {
     "name": "stdout",
     "output_type": "stream",
     "text": [
      "The autoreload extension is already loaded. To reload it, use:\n",
      "  %reload_ext autoreload\n"
     ]
    }
   ],
   "source": [
    "import sys\n",
    "import pandas as pd\n",
    "import googlemaps\n",
    "from datetime import datetime\n",
    "\n",
    "import sys\n",
    "sys.path.insert(0, \"..\")\n",
    "%load_ext autoreload\n",
    "%autoreload 2\n",
    "from src.secrets import API_KEY"
   ]
  },
  {
   "cell_type": "code",
   "execution_count": 3,
   "metadata": {},
   "outputs": [],
   "source": [
    "gmaps = googlemaps.Client(key=API_KEY)"
   ]
  },
  {
   "cell_type": "code",
   "execution_count": 26,
   "metadata": {},
   "outputs": [
    {
     "data": {
      "text/plain": [
       "datetime.datetime(2020, 3, 19, 8, 25, 15, 291176)"
      ]
     },
     "execution_count": 26,
     "metadata": {},
     "output_type": "execute_result"
    }
   ],
   "source": [
    "time = datetime.now()\n",
    "time"
   ]
  },
  {
   "cell_type": "code",
   "execution_count": 5,
   "metadata": {},
   "outputs": [],
   "source": [
    "distance_result = gmaps.distance_matrix(origins='Niedźwiednik 01, 80-292 Gdańsk',\n",
    "                                        destinations=['Miszewskiego 02, Gdańsk', \n",
    "                                                      'Gdańsk Przymorze - Uniwer, Malborska, 80-309 Gdańsk'],\n",
    "                                        mode='transit',\n",
    "                                        units='metrics',\n",
    "                                        departure_time=time,\n",
    "                                        traffic_model='best_guess')"
   ]
  },
  {
   "cell_type": "code",
   "execution_count": 6,
   "metadata": {},
   "outputs": [
    {
     "data": {
      "text/plain": [
       "{'destination_addresses': ['Miszewskiego 02, Gdańsk, Poland',\n",
       "  'Gdańsk Przymorze - Uniwer, Malborska, 80-309 Gdańsk, Poland'],\n",
       " 'origin_addresses': ['Niedźwiednik 01, 80-292 Gdańsk, Poland'],\n",
       " 'rows': [{'elements': [{'distance': {'text': '4.5 km', 'value': 4520},\n",
       "     'duration': {'text': '33 mins', 'value': 1989},\n",
       "     'status': 'OK'},\n",
       "    {'distance': {'text': '4.2 km', 'value': 4218},\n",
       "     'duration': {'text': '28 mins', 'value': 1672},\n",
       "     'status': 'OK'}]}],\n",
       " 'status': 'OK'}"
      ]
     },
     "execution_count": 6,
     "metadata": {},
     "output_type": "execute_result"
    }
   ],
   "source": [
    "distance_result"
   ]
  },
  {
   "cell_type": "code",
   "execution_count": null,
   "metadata": {},
   "outputs": [],
   "source": []
  },
  {
   "cell_type": "code",
   "execution_count": 11,
   "metadata": {},
   "outputs": [],
   "source": [
    "tricity_stops = pd.read_csv(\"../data/ztm_Gdansk.csv\", index_col=0)"
   ]
  },
  {
   "cell_type": "code",
   "execution_count": 22,
   "metadata": {},
   "outputs": [
    {
     "data": {
      "text/plain": [
       "stopName    Niedźwiednik\n",
       "stopDesc    Niedźwiednik\n",
       "zoneId                 1\n",
       "zoneName          Gdańsk\n",
       "stopLat            54.38\n",
       "stopLon          18.5594\n",
       "Name: 41, dtype: object"
      ]
     },
     "execution_count": 22,
     "metadata": {},
     "output_type": "execute_result"
    }
   ],
   "source": [
    "stop_coord = tricity_stops[tricity_stops['stopDesc'] == 'Niedźwiednik'].iloc[0]\n",
    "stop_coord"
   ]
  },
  {
   "cell_type": "code",
   "execution_count": 34,
   "metadata": {},
   "outputs": [
    {
     "data": {
      "text/plain": [
       "['54.42479, 18.563679999999998',\n",
       " '54.46461, 18.496470000000002',\n",
       " '54.50994, 18.52011',\n",
       " '54.49873, 18.549120000000002',\n",
       " '54.41311999999999, 18.59316',\n",
       " '54.449459999999995, 18.55535',\n",
       " '54.496159999999996, 18.55065',\n",
       " '54.388290000000005, 18.62261',\n",
       " '54.33975, 18.500970000000002',\n",
       " '54.37985, 18.60306',\n",
       " '54.32297, 18.542820000000003',\n",
       " '54.38799, 18.61027',\n",
       " '54.5536, 18.528779999999998',\n",
       " '54.55072, 18.5076',\n",
       " '54.58153000000001, 18.492829999999998',\n",
       " '54.39951, 18.56777',\n",
       " '54.361940000000004, 18.611079999999998',\n",
       " '54.55412, 18.371489999999998',\n",
       " '54.58928, 18.48263',\n",
       " '54.31122, 18.917070000000002']"
      ]
     },
     "execution_count": 34,
     "metadata": {},
     "output_type": "execute_result"
    }
   ],
   "source": [
    "stops_test = tricity_stops.sample(20)[['stopDesc', 'stopLat', 'stopLon']].to_dict('record')\n",
    "stops_test_coord = [f\"{i['stopLat']}, {i['stopLon']}\" for i  in stops_test]\n",
    "stops_test_coord"
   ]
  },
  {
   "cell_type": "code",
   "execution_count": 35,
   "metadata": {},
   "outputs": [
    {
     "data": {
      "text/plain": [
       "{'destination_addresses': ['Kasztanowa 01, 81-855 Sopot, Poland',\n",
       "  'Wielki Kack Starodworcowa 02, 81-575 Gdynia, Poland',\n",
       "  'Cmentarz Witomiński 01, Gdynia, Poland',\n",
       "  'Szczeblewskiego 02, Gdynia, Poland',\n",
       "  'Jagiellońska 02, 80-371 Gdańsk, Poland',\n",
       "  'Malczewskiego 02, Sopot, Poland',\n",
       "  'Kopernika - Kościół 02, 81-456 Gdynia, Poland',\n",
       "  'Kościuszki 05, 80-265 Gdańsk, Poland',\n",
       "  'Łapińska 02, 80-178 Gdańsk, Poland',\n",
       "  'Klonowa 02, 80-244 Gdańsk, Poland',\n",
       "  'Szadółki Obwodnica 02, 80-175 Gdańsk, Poland',\n",
       "  'Legionów 03, 80-444 Gdańsk, Poland',\n",
       "  'Dąbka - Zielona 02, 81-107 Gdynia, Poland',\n",
       "  'Obłuże Centrum 03, 81-155 Gdynia, Poland',\n",
       "  'Kosakowo - Gimnazjum 02, 81-198, Poland',\n",
       "  'Bażyńskiego 04, 80-312 Gdańsk, Poland',\n",
       "  'Pomorskie Szkoły Rzemiosł 02, 80-216 Gdańsk, Poland',\n",
       "  'Łąkowa 02, 84-230 Rumia, Poland',\n",
       "  'Wojciecha Chrzanowskiego 42, 81-198, Poland',\n",
       "  'Przegalina 01, 80-690 Gdańsk, Poland'],\n",
       " 'origin_addresses': ['Niedźwiednik 01, 80-292 Gdańsk, Poland'],\n",
       " 'rows': [{'elements': [{'distance': {'text': '10.9 km', 'value': 10903},\n",
       "     'duration': {'text': '41 mins', 'value': 2449},\n",
       "     'status': 'OK'},\n",
       "    {'distance': {'text': '25.7 km', 'value': 25681},\n",
       "     'duration': {'text': '58 mins', 'value': 3476},\n",
       "     'status': 'OK'},\n",
       "    {'distance': {'text': '22.2 km', 'value': 22213},\n",
       "     'duration': {'text': '1 hour 4 mins', 'value': 3832},\n",
       "     'status': 'OK'},\n",
       "    {'distance': {'text': '32.8 km', 'value': 32849},\n",
       "     'duration': {'text': '1 hour 5 mins', 'value': 3910},\n",
       "     'status': 'OK'},\n",
       "    {'distance': {'text': '7.7 km', 'value': 7738},\n",
       "     'duration': {'text': '37 mins', 'value': 2237},\n",
       "     'status': 'OK'},\n",
       "    {'distance': {'text': '14.2 km', 'value': 14207},\n",
       "     'duration': {'text': '47 mins', 'value': 2836},\n",
       "     'status': 'OK'},\n",
       "    {'distance': {'text': '33.2 km', 'value': 33154},\n",
       "     'duration': {'text': '1 hour 7 mins', 'value': 4025},\n",
       "     'status': 'OK'},\n",
       "    {'distance': {'text': '12.2 km', 'value': 12195},\n",
       "     'duration': {'text': '50 mins', 'value': 3027},\n",
       "     'status': 'OK'},\n",
       "    {'distance': {'text': '20.6 km', 'value': 20642},\n",
       "     'duration': {'text': '1 hour 13 mins', 'value': 4380},\n",
       "     'status': 'OK'},\n",
       "    {'distance': {'text': '3.9 km', 'value': 3882},\n",
       "     'duration': {'text': '27 mins', 'value': 1602},\n",
       "     'status': 'OK'},\n",
       "    {'distance': {'text': '14.1 km', 'value': 14127},\n",
       "     'duration': {'text': '55 mins', 'value': 3287},\n",
       "     'status': 'OK'},\n",
       "    {'distance': {'text': '11.2 km', 'value': 11236},\n",
       "     'duration': {'text': '45 mins', 'value': 2710},\n",
       "     'status': 'OK'},\n",
       "    {'distance': {'text': '41.9 km', 'value': 41926},\n",
       "     'duration': {'text': '1 hour 28 mins', 'value': 5269},\n",
       "     'status': 'OK'},\n",
       "    {'distance': {'text': '38.6 km', 'value': 38571},\n",
       "     'duration': {'text': '1 hour 17 mins', 'value': 4605},\n",
       "     'status': 'OK'},\n",
       "    {'distance': {'text': '35.7 km', 'value': 35729},\n",
       "     'duration': {'text': '1 hour 32 mins', 'value': 5520},\n",
       "     'status': 'OK'},\n",
       "    {'distance': {'text': '3.3 km', 'value': 3328},\n",
       "     'duration': {'text': '24 mins', 'value': 1460},\n",
       "     'status': 'OK'},\n",
       "    {'distance': {'text': '8.0 km', 'value': 8011},\n",
       "     'duration': {'text': '26 mins', 'value': 1544},\n",
       "     'status': 'OK'},\n",
       "    {'distance': {'text': '34.9 km', 'value': 34881},\n",
       "     'duration': {'text': '1 hour 37 mins', 'value': 5848},\n",
       "     'status': 'OK'},\n",
       "    {'distance': {'text': '36.4 km', 'value': 36397},\n",
       "     'duration': {'text': '1 hour 38 mins', 'value': 5856},\n",
       "     'status': 'OK'},\n",
       "    {'distance': {'text': '36.2 km', 'value': 36216},\n",
       "     'duration': {'text': '1 hour 47 mins', 'value': 6420},\n",
       "     'status': 'OK'}]}],\n",
       " 'status': 'OK'}"
      ]
     },
     "execution_count": 35,
     "metadata": {},
     "output_type": "execute_result"
    }
   ],
   "source": [
    "distance_result_coord = gmaps.distance_matrix(\n",
    "                                        origins=f\"{stop_coord['stopLat']},{stop_coord['stopLon']}\",\n",
    "                                        destinations=stops_test_coord,\n",
    "                                        mode='transit',\n",
    "                                        units='metrics',\n",
    "                                        departure_time=time,\n",
    "                                        traffic_model='best_guess')\n",
    "\n",
    "distance_result_coord"
   ]
  },
  {
   "cell_type": "code",
   "execution_count": null,
   "metadata": {},
   "outputs": [],
   "source": []
  }
 ],
 "metadata": {
  "kernelspec": {
   "display_name": "3city",
   "language": "python",
   "name": "3city"
  },
  "language_info": {
   "codemirror_mode": {
    "name": "ipython",
    "version": 3
   },
   "file_extension": ".py",
   "mimetype": "text/x-python",
   "name": "python",
   "nbconvert_exporter": "python",
   "pygments_lexer": "ipython3",
   "version": "3.7.5"
  }
 },
 "nbformat": 4,
 "nbformat_minor": 2
}
