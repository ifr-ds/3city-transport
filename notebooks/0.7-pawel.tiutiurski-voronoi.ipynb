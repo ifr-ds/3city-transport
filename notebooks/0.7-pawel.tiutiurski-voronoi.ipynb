{
 "cells": [
  {
   "cell_type": "code",
   "execution_count": null,
   "metadata": {},
   "outputs": [],
   "source": [
    "import pandas as pd\n",
    "\n",
    "df = pd.read_csv(\"../src/state/exp.csv\", index_col=0).reset_index(drop=True)\n",
    "df.head()"
   ]
  },
  {
   "cell_type": "code",
   "execution_count": null,
   "metadata": {},
   "outputs": [],
   "source": [
    "Lat_max, Lat_min = df.stopLat.max(), df.stopLat.min()\n",
    "Lon_max, Lon_min = df.stopLon.max(), df.stopLon.min()"
   ]
  },
  {
   "cell_type": "code",
   "execution_count": null,
   "metadata": {},
   "outputs": [],
   "source": [
    "map_3city_points = df[['stopLon', 'stopLat']].values"
   ]
  },
  {
   "cell_type": "code",
   "execution_count": null,
   "metadata": {},
   "outputs": [],
   "source": [
    "import numpy as np\n",
    "from scipy.spatial import Voronoi\n",
    "\n",
    "stops = df.coord.values\n",
    "ids = np.array(map_3city_points)\n",
    "vor = Voronoi(ids)\n",
    "polygons = {}\n",
    "for id, region_index in enumerate(vor.point_region):\n",
    "    points = []\n",
    "    for vertex_index in vor.regions[region_index]:\n",
    "        if vertex_index != -1:  # the library uses this for infinity\n",
    "            points.append(list(vor.vertices[vertex_index]))\n",
    "    points.append(points[0])\n",
    "    polygons[id]=points"
   ]
  },
  {
   "cell_type": "code",
   "execution_count": null,
   "metadata": {},
   "outputs": [],
   "source": []
  },
  {
   "cell_type": "code",
   "execution_count": null,
   "metadata": {},
   "outputs": [],
   "source": [
    "stops_indexes = [row['coord'] for index, row in df.iterrows()]"
   ]
  },
  {
   "cell_type": "code",
   "execution_count": null,
   "metadata": {},
   "outputs": [],
   "source": [
    "data_geoJson = [{index: coordinates} for index, coordinates in zip(stops_indexes, polygons.values())]"
   ]
  },
  {
   "cell_type": "code",
   "execution_count": null,
   "metadata": {},
   "outputs": [],
   "source": []
  },
  {
   "cell_type": "code",
   "execution_count": null,
   "metadata": {},
   "outputs": [],
   "source": [
    "from shapely.geometry import Point, LineString, Polygon"
   ]
  },
  {
   "cell_type": "code",
   "execution_count": null,
   "metadata": {},
   "outputs": [],
   "source": [
    "boundary = np.array([[18.948932, 54.354509],\n",
    "                     [18.606983, 54.436059],\n",
    "                     [18.558918, 54.596288],\n",
    "                     [18.341938, 54.594697],\n",
    "                     [18.411136, 54.388688],\n",
    "                     [18.539508, 54.264611],\n",
    "                     [18.929380, 54.297227]])"
   ]
  },
  {
   "cell_type": "code",
   "execution_count": null,
   "metadata": {},
   "outputs": [],
   "source": [
    "boundary_3city = Polygon(boundary).buffer(0.00001)\n",
    "data_geoJson_boundary = []\n",
    "empty_test = []\n",
    "for area in data_geoJson:\n",
    "    for k, v in area.items():\n",
    "        poly = Polygon(list(v)).buffer(0.00001)\n",
    "        new_poly = boundary_3city.intersection(poly)\n",
    "        empty_test.append(new_poly.is_empty)\n",
    "        if not new_poly.is_empty:\n",
    "            data_geoJson_boundary.append({k:[[x, y] for x, y in zip(new_poly.exterior.coords.xy[0],\n",
    "                                                                    new_poly.exterior.coords.xy[1])]})\n",
    "        else:\n",
    "            data_geoJson_boundary.append(area)\n",
    "len(data_geoJson_boundary)"
   ]
  },
  {
   "cell_type": "code",
   "execution_count": null,
   "metadata": {},
   "outputs": [],
   "source": [
    "set(empty_test)"
   ]
  },
  {
   "cell_type": "code",
   "execution_count": null,
   "metadata": {},
   "outputs": [],
   "source": [
    "data_geoJson[260]"
   ]
  },
  {
   "cell_type": "code",
   "execution_count": null,
   "metadata": {},
   "outputs": [],
   "source": [
    "cell = Polygon(list(data_geoJson[260].values())[0]).buffer(0.00001)\n",
    "\n",
    "new_polygon = cell.intersection(boundary_3city)"
   ]
  },
  {
   "cell_type": "code",
   "execution_count": null,
   "metadata": {},
   "outputs": [],
   "source": [
    "cell"
   ]
  },
  {
   "cell_type": "code",
   "execution_count": null,
   "metadata": {},
   "outputs": [],
   "source": [
    "boundary_3city"
   ]
  },
  {
   "cell_type": "code",
   "execution_count": null,
   "metadata": {},
   "outputs": [],
   "source": [
    "new_polygon"
   ]
  },
  {
   "cell_type": "code",
   "execution_count": 1,
   "metadata": {},
   "outputs": [],
   "source": [
    "import logging"
   ]
  },
  {
   "cell_type": "code",
   "execution_count": null,
   "metadata": {},
   "outputs": [],
   "source": [
    "geoJson_3city = {\"type\":\"FeatureCollection\",\"features\":[\n",
    "                    {\"type\":\"Feature\",\n",
    "                     \"id\":list(zone.keys())[0],\n",
    "                     \"properties\":{\"name\":\"3city\"},\n",
    "                     \"geometry\":{\"type\":\"Polygon\",\n",
    "                                 \"coordinates\": list(zone.values())}} for zone in data_geoJson_boundary]}"
   ]
  },
  {
   "cell_type": "code",
   "execution_count": null,
   "metadata": {},
   "outputs": [],
   "source": [
    "import json\n",
    "with open('../src/state/geoJson_3city_boundary.json', 'w') as fp:\n",
    "    json.dump(geoJson_3city, fp)"
   ]
  },
  {
   "cell_type": "code",
   "execution_count": null,
   "metadata": {},
   "outputs": [],
   "source": [
    "import folium\n",
    "import os\n",
    "\n",
    "city_geo = os.path.join('../src/state/', 'geoJson_3city_boundary.json')\n",
    "# city_geo = os.path.join('../src/state/', 'geoJson_3city.json')\n",
    "\n",
    "time_data = pd.read_csv(\"../src/state/exp.csv\", index_col=0).reset_index(drop=True).\\\n",
    "                                                             rename(columns={'coord':'id'})\n",
    "time_data['time_min'] = time_data['time_sec'] / 60\n",
    "\n",
    "bins = [0, 1, 2, 3, 4, 5, 6, 12]\n",
    "\n",
    "m = folium.Map(location=[54.441564, 18.562754], zoom_start = 10)\n",
    "\n",
    "folium.Choropleth(\n",
    "    geo_data=city_geo,\n",
    "    name='choropleth',\n",
    "    data=time_data,\n",
    "    columns=['id', 'time_min'],\n",
    "    key_on='feature.id',\n",
    "    line_weight=2,\n",
    "    fill_color='YlOrRd',\n",
    "    fill_opacity=0.4,\n",
    "    line_opacity=0.2,\n",
    "    legend_name='Time (min)',\n",
    "    bins=9,\n",
    "    reset=True\n",
    ").add_to(m)\n",
    "\n",
    "df['Lat'] = df['stopLat'].astype(float)\n",
    "df['Lon'] = df['stopLon'].astype(float)\n",
    "\n",
    "heat_df = df[['Lat', 'Lon']]\n",
    "heat_data = [[row['Lat'], row['Lon']] for index, row in heat_df.iterrows()]\n",
    "\n",
    "for index, row in heat_df.iterrows():\n",
    "    folium.Circle(location=[row['Lat'], row['Lon']],\n",
    "                  radius=10,\n",
    "                  color=None,\n",
    "                  fill=True,\n",
    "                  fill_color=\"black\",\n",
    "                  fill_opacity=1).add_to(m)\n",
    "\n",
    "m#.save(\"folium_choropleth_3city.html\")"
   ]
  },
  {
   "cell_type": "code",
   "execution_count": null,
   "metadata": {},
   "outputs": [],
   "source": []
  },
  {
   "cell_type": "code",
   "execution_count": null,
   "metadata": {},
   "outputs": [],
   "source": []
  },
  {
   "cell_type": "code",
   "execution_count": null,
   "metadata": {},
   "outputs": [],
   "source": []
  },
  {
   "cell_type": "code",
   "execution_count": null,
   "metadata": {},
   "outputs": [],
   "source": []
  }
 ],
 "metadata": {
  "kernelspec": {
   "display_name": "3city",
   "language": "python",
   "name": "3city"
  },
  "language_info": {
   "codemirror_mode": {
    "name": "ipython",
    "version": 3
   },
   "file_extension": ".py",
   "mimetype": "text/x-python",
   "name": "python",
   "nbconvert_exporter": "python",
   "pygments_lexer": "ipython3",
   "version": "3.7.5"
  }
 },
 "nbformat": 4,
 "nbformat_minor": 4
}
